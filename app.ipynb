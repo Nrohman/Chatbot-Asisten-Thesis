{
  "nbformat": 4,
  "nbformat_minor": 0,
  "metadata": {
    "colab": {
      "provenance": []
    },
    "kernelspec": {
      "name": "python3",
      "display_name": "Python 3"
    },
    "language_info": {
      "name": "python"
    }
  },
  "cells": [
    {
      "cell_type": "code",
      "execution_count": 1,
      "metadata": {
        "colab": {
          "base_uri": "https://localhost:8080/"
        },
        "id": "O6HYnmofDjXN",
        "outputId": "36147176-c32d-4507-ccce-c8d61d79155b"
      },
      "outputs": [
        {
          "output_type": "stream",
          "name": "stdout",
          "text": [
            "\u001b[2K   \u001b[90m━━━━━━━━━━━━━━━━━━━━━━━━━━━━━━━━━━━━━━━━\u001b[0m \u001b[32m10.1/10.1 MB\u001b[0m \u001b[31m58.5 MB/s\u001b[0m eta \u001b[36m0:00:00\u001b[0m\n",
            "\u001b[2K   \u001b[90m━━━━━━━━━━━━━━━━━━━━━━━━━━━━━━━━━━━━━━━━\u001b[0m \u001b[32m6.9/6.9 MB\u001b[0m \u001b[31m47.6 MB/s\u001b[0m eta \u001b[36m0:00:00\u001b[0m\n",
            "\u001b[?25h"
          ]
        }
      ],
      "source": [
        "!pip install -q streamlit pyngrok"
      ]
    },
    {
      "cell_type": "code",
      "source": [
        "%%writefile app.py\n",
        "import streamlit as st\n",
        "import google.generativeai as genai\n",
        "import os\n",
        "\n",
        "# --- INI ADALAH BAGIAN UTAMA APLIKASI ---\n",
        "\n",
        "# Judul Aplikasi\n",
        "st.title(\"🎓 Asisten Thesis\")\n",
        "st.write(\"Chatbot Pendamping Skripsi Anda\")\n",
        "\n",
        "# --- SIDEBAR UNTUK KONFIGURASI ---\n",
        "with st.sidebar:\n",
        "    st.header(\"⚙️ Konfigurasi\")\n",
        "\n",
        "    # 1. Input API Key\n",
        "    api_key = st.text_input(\"Masukkan Gemini API Key...\", type=\"password\")\n",
        "\n",
        "    # 2. Input Bidang Skripsi\n",
        "    bidang_skripsi = st.text_input(\"Fokus Bidang Skripsi\", placeholder=\"Contoh: Keamanan Siber\")\n",
        "\n",
        "    # 3. Pilihan Model (KUSTOMISASI BARU!)\n",
        "    model_choice = st.selectbox(\n",
        "        \"Pilih Model Gemini\",\n",
        "        (\"gemini-2.5-pro\", \"gemini-2.5-flash\")\n",
        "    )\n",
        "    st.caption(\"Pro: Kemampuan nalar kuat. Flash: Cepat dan efisien.\")\n",
        "\n",
        "    # Tombol untuk menyimpan semua konfigurasi\n",
        "    if st.button(\"Simpan Konfigurasi\"):\n",
        "        if api_key and bidang_skripsi and model_choice:\n",
        "            st.session_state.api_key = api_key\n",
        "            st.session_state.bidang_skripsi = bidang_skripsi\n",
        "            st.session_state.model_name = model_choice  # Simpan nama model yang dipilih\n",
        "            st.success(\"Konfigurasi berhasil disimpan!\")\n",
        "        else:\n",
        "            st.warning(\"Mohon lengkapi semua kolom konfigurasi.\")\n",
        "\n",
        "# --- LOGIKA APLIKASI ---\n",
        "\n",
        "# Cek apakah semua konfigurasi sudah disimpan\n",
        "if all(key in st.session_state for key in ['api_key', 'bidang_skripsi', 'model_name']):\n",
        "    try:\n",
        "        genai.configure(api_key=st.session_state.api_key)\n",
        "\n",
        "        # Mengambil konfigurasi dari session state\n",
        "        fokus_bidang = st.session_state.bidang_skripsi\n",
        "        nama_model = st.session_state.model_name # Ambil nama model yang dipilih\n",
        "\n",
        "        # --- System Instruction yang dinamis ---\n",
        "        system_instruction = f\"\"\"\n",
        "        Anda adalah \"Asisten Thesis\", seorang mentor skripsi virtual yang ahli dalam metodologi penelitian dan penulisan ilmiah,\n",
        "        dengan FOKUS UTAMA pada bidang: **{fokus_bidang}**.\n",
        "        Anda beroperasi menggunakan model {nama_model}.\n",
        "\n",
        "        Kepribadian Anda: Suportif, terstruktur, dan kritis secara konstruktif.\n",
        "        Gaya Bahasa: Formal, jelas, dan memandu.\n",
        "\n",
        "        Aturan Peran Anda:\n",
        "        1. Selalu berikan saran dan ide topik yang relevan dengan bidang **{fokus_bidang}**.\n",
        "        2. JANGAN PERNAH memberikan jawaban atau solusi jadi.\n",
        "        3. Gunakan pertanyaan pancingan untuk menstimulasi pemikiran kritis.\n",
        "        4. Bantu mempersempit topik dengan menanyakan batasan masalah, tujuan, dan metode yang relevan dengan **{fokus_bidang}**.\n",
        "        \"\"\"\n",
        "\n",
        "        # Menggunakan nama model yang dipilih oleh pengguna\n",
        "        model = genai.GenerativeModel(\n",
        "            model_name=nama_model,\n",
        "            system_instruction=system_instruction\n",
        "        )\n",
        "\n",
        "        # Reset chat jika konfigurasi berubah\n",
        "        if \"chat\" not in st.session_state or st.session_state.get('config_hash') != hash((fokus_bidang, nama_model)):\n",
        "            st.session_state.chat = model.start_chat(history=[])\n",
        "            st.session_state.config_hash = hash((fokus_bidang, nama_model))\n",
        "            st.info(f\"Asisten Thesis kini fokus pada **{fokus_bidang}** menggunakan model **{nama_model}**.\")\n",
        "\n",
        "        st.write(\"---\")\n",
        "\n",
        "        # Menampilkan riwayat chat\n",
        "        for message in st.session_state.chat.history:\n",
        "            role = \"Anda\" if message.role == \"user\" else \"Asisten\"\n",
        "            with st.chat_message(role):\n",
        "                st.markdown(message.parts[0].text)\n",
        "\n",
        "        # Input pengguna\n",
        "        if user_prompt := st.chat_input(\"Ketik pertanyaan Anda di sini...\"):\n",
        "            with st.chat_message(\"Anda\"):\n",
        "                st.markdown(user_prompt)\n",
        "\n",
        "            response = st.session_state.chat.send_message(user_prompt)\n",
        "            with st.chat_message(\"Asisten\"):\n",
        "                st.markdown(response.parts[0].text)\n",
        "\n",
        "    except Exception as e:\n",
        "        st.error(f\"Terjadi kesalahan. Pastikan API Key valid. Detail: {e}\")\n",
        "\n",
        "else:\n",
        "    st.info(\"🔑 Silakan lengkapi konfigurasi di sidebar sebelah kiri untuk memulai.\")"
      ],
      "metadata": {
        "colab": {
          "base_uri": "https://localhost:8080/"
        },
        "id": "pkiH7e7fDkXr",
        "outputId": "c1316db0-4db3-4bb3-cd1f-e38f1d9da3a2"
      },
      "execution_count": 2,
      "outputs": [
        {
          "output_type": "stream",
          "name": "stdout",
          "text": [
            "Writing app.py\n"
          ]
        }
      ]
    },
    {
      "cell_type": "code",
      "source": [
        "from pyngrok import ngrok\n",
        "from google.colab import userdata\n",
        "import os\n",
        "\n",
        "# Memastikan tidak ada proses ngrok atau streamlit yang sudah berjalan\n",
        "!kill -9 $(ps -e | grep -e \"ngrok\" -e \"streamlit\" | awk '{print $1}') > /dev/null 2>&1\n",
        "\n",
        "# 1. Mengambil HANYA NGROK_AUTHTOKEN dari Colab\n",
        "NGROK_AUTHTOKEN = userdata.get('NGROK_AUTHTOKEN')\n",
        "os.environ['NGROK_AUTHTOKEN'] = NGROK_AUTHTOKEN\n",
        "\n",
        "# 2. Menjalankan aplikasi Streamlit di background\n",
        "os.system(\"streamlit run app.py &\")\n",
        "\n",
        "# 3. Membuat tunnel publik\n",
        "import time\n",
        "time.sleep(5) # Memberi waktu agar streamlit siap\n",
        "public_url = ngrok.connect(8501)\n",
        "print(f\"✅ Aplikasi Anda sudah berjalan! Klik link ini untuk membuka: {public_url}\")"
      ],
      "metadata": {
        "colab": {
          "base_uri": "https://localhost:8080/"
        },
        "id": "f-O2foQsEpRx",
        "outputId": "f7e67363-00a5-41d7-d83c-0461c8c22ad5"
      },
      "execution_count": 3,
      "outputs": [
        {
          "output_type": "stream",
          "name": "stdout",
          "text": [
            "✅ Aplikasi Anda sudah berjalan! Klik link ini untuk membuka: NgrokTunnel: \"https://leia-cerated-accidentally.ngrok-free.dev\" -> \"http://localhost:8501\"\n"
          ]
        }
      ]
    }
  ]
}